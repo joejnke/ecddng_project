{
 "cells": [
  {
   "cell_type": "code",
   "execution_count": 5,
   "metadata": {},
   "outputs": [],
   "source": [
    "%matplotlib inline\n",
    "#The line above is necesary to show Matplotlib's plots inside a Jupyter Notebook\n",
    "\n",
    "from matplotlib import pyplot as plt\n",
    "\n",
    "import pytesseract\n",
    "import numpy as np\n",
    "from pytesseract import Output\n",
    "import cv2\n",
    "img = cv2.imread('bw.png')\n",
    "# Rescale the image, if needed.\n",
    "#img = cv2.resize(img, None, fx=1.5, fy=1.5, interpolation=cv2.INTER_CUBIC)\n",
    "#img = cv2.resize(img, None, fx=0.25, fy=0.25, interpolation=cv2.INTER_AREA)\n",
    "    # Convert to gray\n",
    "img = cv2.cvtColor(img, cv2.COLOR_BGR2GRAY)\n",
    "# Apply dilation and erosion to remove some noise\n",
    "kernel = np.ones((1, 1), np.uint8)\n",
    "img = cv2.dilate(img, kernel, iterations=1)\n",
    "img = cv2.erode(img, kernel, iterations=1)\n",
    "\n",
    "# Apply blur to smooth out the edges\n",
    "img = cv2.bilateralFilter(img,9,75,75)  \n",
    "\n",
    "    # Thresholding types\n",
    "#img=cv2.threshold(img,127,255,cv2.THRESH_BINARY)\n",
    "#img=cv2.threshold(img, 0, 255, cv2.THRESH_BINARY + cv2.THRESH_OTSU)[1]\n",
    "img= cv2.adaptiveThreshold(img, 255, cv2.ADAPTIVE_THRESH_GAUSSIAN_C, cv2.THRESH_BINARY, 31, 2)"
   ]
  },
  {
   "cell_type": "code",
   "execution_count": 6,
   "metadata": {},
   "outputs": [
    {
     "name": "stdout",
     "output_type": "stream",
     "text": [
      "26 63 77 25 Testing\n",
      "109 63 101 19 Tesseract\n",
      "216 63 59 19 OCR\n"
     ]
    },
    {
     "data": {
      "image/png": "[encoded data removed]",
      "text/plain": [
       "<Figure size 432x288 with 1 Axes>"
      ]
     },
     "metadata": {
      "needs_background": "light"
     },
     "output_type": "display_data"
    }
   ],
   "source": [
    "d = pytesseract.image_to_data(img,lang='Greek+eng',config='--psm 12',output_type=Output.DICT)\n",
    "n_boxes = len(d['level'])\n",
    "\n",
    "temp_coord = []\n",
    "temp_text = []\n",
    "\n",
    "for i in range(n_boxes):\n",
    "    if d['text'][i]!= \"\" :\n",
    "    \n",
    "        (x, y, w, h,t) = (d['left'][i], d['top'][i], d['width'][i], d['height'][i],d['text'][i])\n",
    "        cv2.rectangle(img, (x, y), (x + w, y + h), (0, 255, 0),2)\n",
    "        temp_coord.append((x,y,w,h))\n",
    "        temp_text.append(t)\n",
    "        print (x, y, w, h,t)\n",
    "        \n",
    "ocr_dict = dict(zip(tuple(temp_coord),temp_text))\n",
    "\n",
    "#Show the image with matplotlib\n",
    "\n",
    "plt.imshow(img)\n",
    "plt.show()"
   ]
  },
  {
   "cell_type": "code",
   "execution_count": null,
   "metadata": {},
   "outputs": [],
   "source": []
  },
  {
   "cell_type": "code",
   "execution_count": null,
   "metadata": {},
   "outputs": [],
   "source": []
  },
  {
   "cell_type": "code",
   "execution_count": null,
   "metadata": {},
   "outputs": [],
   "source": []
  }
 ],
 "metadata": {
  "kernelspec": {
   "display_name": "Python 3",
   "language": "python",
   "name": "python3"
  },
  "language_info": {
   "codemirror_mode": {
    "name": "ipython",
    "version": 3
   },
   "file_extension": ".py",
   "mimetype": "text/x-python",
   "name": "python",
   "nbconvert_exporter": "python",
   "pygments_lexer": "ipython3",
   "version": "3.6.2"
  }
 },
 "nbformat": 4,
 "nbformat_minor": 2
}
