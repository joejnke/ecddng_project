{
 "cells": [
  {
   "cell_type": "markdown",
   "metadata": {
    "colab_type": "text",
    "id": "V8-yl-s-WKMG"
   },
   "source": [
    "# Object Detection Demo\n",
    "Welcome to the object detection inference walkthrough!  This notebook will walk you step by step through the process of using a pre-trained model to detect objects in an image. Make sure to follow the [installation instructions](https://github.com/tensorflow/models/blob/master/research/object_detection/g3doc/installation.md) before you start."
   ]
  },
  {
   "cell_type": "markdown",
   "metadata": {
    "colab_type": "text",
    "id": "kFSqkTCdWKMI"
   },
   "source": [
    "# Imports"
   ]
  },
  {
   "cell_type": "code",
   "execution_count": 1,
   "metadata": {
    "colab": {
     "autoexec": {
      "startup": false,
      "wait_interval": 0
     }
    },
    "colab_type": "code",
    "collapsed": true,
    "id": "hV4P5gyTWKMI"
   },
   "outputs": [],
   "source": [
    "import numpy as np\n",
    "import os\n",
    "import six.moves.urllib as urllib\n",
    "import sys\n",
    "import tarfile\n",
    "import tensorflow as tf\n",
    "import zipfile\n",
    "\n",
    "from distutils.version import StrictVersion\n",
    "from collections import defaultdict\n",
    "from io import StringIO\n",
    "from matplotlib import pyplot as plt\n",
    "from PIL import Image\n",
    "\n",
    "# This is needed since the notebook is stored in the object_detection folder.\n",
    "sys.path.append(\"..\")\n",
    "from object_detection.utils import ops as utils_ops\n",
    "\n",
    "if StrictVersion(tf.__version__) < StrictVersion('1.9.0'):\n",
    "  raise ImportError('Please upgrade your TensorFlow installation to v1.9.* or later!')\n"
   ]
  },
  {
   "cell_type": "markdown",
   "metadata": {
    "colab_type": "text",
    "id": "Wy72mWwAWKMK"
   },
   "source": [
    "## Env setup"
   ]
  },
  {
   "cell_type": "code",
   "execution_count": 2,
   "metadata": {
    "colab": {
     "autoexec": {
      "startup": false,
      "wait_interval": 0
     }
    },
    "colab_type": "code",
    "collapsed": true,
    "id": "v7m_NY_aWKMK"
   },
   "outputs": [],
   "source": [
    "# This is needed to display the images.\n",
    "%matplotlib inline"
   ]
  },
  {
   "cell_type": "markdown",
   "metadata": {
    "colab_type": "text",
    "id": "r5FNuiRPWKMN"
   },
   "source": [
    "## Object detection imports\n",
    "Here are the imports from the object detection module."
   ]
  },
  {
   "cell_type": "code",
   "execution_count": 3,
   "metadata": {
    "colab": {
     "autoexec": {
      "startup": false,
      "wait_interval": 0
     }
    },
    "colab_type": "code",
    "id": "bm0_uNRnWKMN"
   },
   "outputs": [
    {
     "name": "stderr",
     "output_type": "stream",
     "text": [
      "/home/kira/cloned/tensorflow object detection API/models/research/object_detection/utils/visualization_utils.py:27: UserWarning: \n",
      "This call to matplotlib.use() has no effect because the backend has already\n",
      "been chosen; matplotlib.use() must be called *before* pylab, matplotlib.pyplot,\n",
      "or matplotlib.backends is imported for the first time.\n",
      "\n",
      "The backend was *originally* set to 'module://ipykernel.pylab.backend_inline' by the following code:\n",
      "  File \"/home/kira/anaconda3/lib/python3.6/runpy.py\", line 193, in _run_module_as_main\n",
      "    \"__main__\", mod_spec)\n",
      "  File \"/home/kira/anaconda3/lib/python3.6/runpy.py\", line 85, in _run_code\n",
      "    exec(code, run_globals)\n",
      "  File \"/home/kira/anaconda3/lib/python3.6/site-packages/ipykernel_launcher.py\", line 16, in <module>\n",
      "    app.launch_new_instance()\n",
      "  File \"/home/kira/anaconda3/lib/python3.6/site-packages/traitlets/config/application.py\", line 658, in launch_instance\n",
      "    app.start()\n",
      "  File \"/home/kira/anaconda3/lib/python3.6/site-packages/ipykernel/kernelapp.py\", line 477, in start\n",
      "    ioloop.IOLoop.instance().start()\n",
      "  File \"/home/kira/anaconda3/lib/python3.6/site-packages/zmq/eventloop/ioloop.py\", line 177, in start\n",
      "    super(ZMQIOLoop, self).start()\n",
      "  File \"/opt/ros/kinetic/lib/python2.7/dist-packages/tornado/ioloop.py\", line 837, in start\n",
      "    handler_func(fd_obj, events)\n",
      "  File \"/opt/ros/kinetic/lib/python2.7/dist-packages/tornado/stack_context.py\", line 275, in null_wrapper\n",
      "    return fn(*args, **kwargs)\n",
      "  File \"/home/kira/anaconda3/lib/python3.6/site-packages/zmq/eventloop/zmqstream.py\", line 440, in _handle_events\n",
      "    self._handle_recv()\n",
      "  File \"/home/kira/anaconda3/lib/python3.6/site-packages/zmq/eventloop/zmqstream.py\", line 472, in _handle_recv\n",
      "    self._run_callback(callback, msg)\n",
      "  File \"/home/kira/anaconda3/lib/python3.6/site-packages/zmq/eventloop/zmqstream.py\", line 414, in _run_callback\n",
      "    callback(*args, **kwargs)\n",
      "  File \"/opt/ros/kinetic/lib/python2.7/dist-packages/tornado/stack_context.py\", line 275, in null_wrapper\n",
      "    return fn(*args, **kwargs)\n",
      "  File \"/home/kira/anaconda3/lib/python3.6/site-packages/ipykernel/kernelbase.py\", line 283, in dispatcher\n",
      "    return self.dispatch_shell(stream, msg)\n",
      "  File \"/home/kira/anaconda3/lib/python3.6/site-packages/ipykernel/kernelbase.py\", line 235, in dispatch_shell\n",
      "    handler(stream, idents, msg)\n",
      "  File \"/home/kira/anaconda3/lib/python3.6/site-packages/ipykernel/kernelbase.py\", line 399, in execute_request\n",
      "    user_expressions, allow_stdin)\n",
      "  File \"/home/kira/anaconda3/lib/python3.6/site-packages/ipykernel/ipkernel.py\", line 196, in do_execute\n",
      "    res = shell.run_cell(code, store_history=store_history, silent=silent)\n",
      "  File \"/home/kira/anaconda3/lib/python3.6/site-packages/ipykernel/zmqshell.py\", line 533, in run_cell\n",
      "    return super(ZMQInteractiveShell, self).run_cell(*args, **kwargs)\n",
      "  File \"/home/kira/anaconda3/lib/python3.6/site-packages/IPython/core/interactiveshell.py\", line 2698, in run_cell\n",
      "    interactivity=interactivity, compiler=compiler, result=result)\n",
      "  File \"/home/kira/anaconda3/lib/python3.6/site-packages/IPython/core/interactiveshell.py\", line 2808, in run_ast_nodes\n",
      "    if self.run_code(code, result):\n",
      "  File \"/home/kira/anaconda3/lib/python3.6/site-packages/IPython/core/interactiveshell.py\", line 2862, in run_code\n",
      "    exec(code_obj, self.user_global_ns, self.user_ns)\n",
      "  File \"<ipython-input-2-5a31747f16e3>\", line 2, in <module>\n",
      "    get_ipython().magic('matplotlib inline')\n",
      "  File \"/home/kira/anaconda3/lib/python3.6/site-packages/IPython/core/interactiveshell.py\", line 2146, in magic\n",
      "    return self.run_line_magic(magic_name, magic_arg_s)\n",
      "  File \"/home/kira/anaconda3/lib/python3.6/site-packages/IPython/core/interactiveshell.py\", line 2067, in run_line_magic\n",
      "    result = fn(*args,**kwargs)\n",
      "  File \"<decorator-gen-107>\", line 2, in matplotlib\n",
      "  File \"/home/kira/anaconda3/lib/python3.6/site-packages/IPython/core/magic.py\", line 187, in <lambda>\n",
      "    call = lambda f, *a, **k: f(*a, **k)\n",
      "  File \"/home/kira/anaconda3/lib/python3.6/site-packages/IPython/core/magics/pylab.py\", line 99, in matplotlib\n",
      "    gui, backend = self.shell.enable_matplotlib(args.gui)\n",
      "  File \"/home/kira/anaconda3/lib/python3.6/site-packages/IPython/core/interactiveshell.py\", line 2930, in enable_matplotlib\n",
      "    pt.activate_matplotlib(backend)\n",
      "  File \"/home/kira/anaconda3/lib/python3.6/site-packages/IPython/core/pylabtools.py\", line 307, in activate_matplotlib\n",
      "    matplotlib.pyplot.switch_backend(backend)\n",
      "  File \"/home/kira/anaconda3/lib/python3.6/site-packages/matplotlib/pyplot.py\", line 229, in switch_backend\n",
      "    matplotlib.use(newbackend, warn=False, force=True)\n",
      "  File \"/home/kira/anaconda3/lib/python3.6/site-packages/matplotlib/__init__.py\", line 1305, in use\n",
      "    reload(sys.modules['matplotlib.backends'])\n",
      "  File \"/home/kira/anaconda3/lib/python3.6/importlib/__init__.py\", line 166, in reload\n",
      "    _bootstrap._exec(spec, module)\n",
      "  File \"/home/kira/anaconda3/lib/python3.6/site-packages/matplotlib/backends/__init__.py\", line 14, in <module>\n",
      "    line for line in traceback.format_stack()\n",
      "\n",
      "\n",
      "  import matplotlib; matplotlib.use('Agg')  # pylint: disable=multiple-statements\n"
     ]
    }
   ],
   "source": [
    "from utils import label_map_util\n",
    "\n",
    "from utils import visualization_utils as vis_util"
   ]
  },
  {
   "cell_type": "markdown",
   "metadata": {
    "colab_type": "text",
    "id": "cfn_tRFOWKMO"
   },
   "source": [
    "# Model preparation "
   ]
  },
  {
   "cell_type": "markdown",
   "metadata": {
    "colab_type": "text",
    "id": "X_sEBLpVWKMQ"
   },
   "source": [
    "## Variables\n",
    "\n",
    "Any model exported using the `export_inference_graph.py` tool can be loaded here simply by changing `PATH_TO_FROZEN_GRAPH` to point to a new .pb file.  \n",
    "\n",
    "By default we use an \"SSD with Mobilenet\" model here. See the [detection model zoo](https://github.com/tensorflow/models/blob/master/research/object_detection/g3doc/detection_model_zoo.md) for a list of other models that can be run out-of-the-box with varying speeds and accuracies."
   ]
  },
  {
   "cell_type": "code",
   "execution_count": 4,
   "metadata": {
    "colab": {
     "autoexec": {
      "startup": false,
      "wait_interval": 0
     }
    },
    "colab_type": "code",
    "collapsed": true,
    "id": "VyPz_t8WWKMQ"
   },
   "outputs": [],
   "source": [
    "# What model to download.\n",
    "MODEL_NAME = 'rlc_graph'\n",
    "\n",
    "# Path to frozen detection graph. This is the actual model that is used for the object detection.\n",
    "PATH_TO_FROZEN_GRAPH = MODEL_NAME + '/frozen_inference_graph.pb'\n",
    "\n",
    "# List of the strings that is used to add correct label for each box.\n",
    "PATH_TO_LABELS = os.path.join('training', 'object-detection.pbtxt')\n",
    "\n",
    "NUM_CLASSES = 3"
   ]
  },
  {
   "cell_type": "markdown",
   "metadata": {
    "colab_type": "text",
    "id": "YBcB9QHLWKMU"
   },
   "source": [
    "## Load a (frozen) Tensorflow model into memory."
   ]
  },
  {
   "cell_type": "code",
   "execution_count": 5,
   "metadata": {
    "colab": {
     "autoexec": {
      "startup": false,
      "wait_interval": 0
     }
    },
    "colab_type": "code",
    "collapsed": true,
    "id": "KezjCRVvWKMV"
   },
   "outputs": [],
   "source": [
    "detection_graph = tf.Graph()\n",
    "with detection_graph.as_default():\n",
    "  od_graph_def = tf.GraphDef()\n",
    "  with tf.gfile.GFile(PATH_TO_FROZEN_GRAPH, 'rb') as fid:\n",
    "    serialized_graph = fid.read()\n",
    "    od_graph_def.ParseFromString(serialized_graph)\n",
    "    tf.import_graph_def(od_graph_def, name='')"
   ]
  },
  {
   "cell_type": "markdown",
   "metadata": {
    "colab_type": "text",
    "id": "_1MVVTcLWKMW"
   },
   "source": [
    "## Loading label map\n",
    "Label maps map indices to category names, so that when our convolution network predicts `5`, we know that this corresponds to `airplane`.  Here we use internal utility functions, but anything that returns a dictionary mapping integers to appropriate string labels would be fine"
   ]
  },
  {
   "cell_type": "code",
   "execution_count": 6,
   "metadata": {
    "colab": {
     "autoexec": {
      "startup": false,
      "wait_interval": 0
     }
    },
    "colab_type": "code",
    "collapsed": true,
    "id": "hDbpHkiWWKMX"
   },
   "outputs": [],
   "source": [
    "category_index = label_map_util.create_category_index_from_labelmap(PATH_TO_LABELS, use_display_name=True)"
   ]
  },
  {
   "cell_type": "markdown",
   "metadata": {
    "colab_type": "text",
    "id": "EFsoUHvbWKMZ"
   },
   "source": [
    "## Helper code"
   ]
  },
  {
   "cell_type": "code",
   "execution_count": 7,
   "metadata": {
    "colab": {
     "autoexec": {
      "startup": false,
      "wait_interval": 0
     }
    },
    "colab_type": "code",
    "collapsed": true,
    "id": "aSlYc3JkWKMa"
   },
   "outputs": [],
   "source": [
    "def load_image_into_numpy_array(image):\n",
    "  (im_width, im_height) = image.size\n",
    "  return np.array(image.getdata()).reshape(\n",
    "      (im_height, im_width, 3)).astype(np.uint8)"
   ]
  },
  {
   "cell_type": "markdown",
   "metadata": {
    "colab_type": "text",
    "id": "H0_1AGhrWKMc"
   },
   "source": [
    "# Detection"
   ]
  },
  {
   "cell_type": "code",
   "execution_count": 8,
   "metadata": {
    "colab": {
     "autoexec": {
      "startup": false,
      "wait_interval": 0
     }
    },
    "colab_type": "code",
    "collapsed": true,
    "id": "jG-zn5ykWKMd"
   },
   "outputs": [],
   "source": [
    "# For the sake of simplicity we will use only 2 images:\n",
    "# image1.jpg\n",
    "# image2.jpg\n",
    "# If you want to test the code with your images, just add path to the images to the TEST_IMAGE_PATHS.\n",
    "PATH_TO_TEST_IMAGES_DIR = 'test_images'\n",
    "TEST_IMAGE_PATHS = [ os.path.join(PATH_TO_TEST_IMAGES_DIR, 'image{}.jpg'.format(i)) for i in range(3, 4) ]\n",
    "\n",
    "# Size, in inches, of the output images.\n",
    "IMAGE_SIZE = (12, 8)"
   ]
  },
  {
   "cell_type": "code",
   "execution_count": 9,
   "metadata": {
    "colab": {
     "autoexec": {
      "startup": false,
      "wait_interval": 0
     }
    },
    "colab_type": "code",
    "collapsed": true,
    "id": "92BHxzcNWKMf"
   },
   "outputs": [],
   "source": [
    "def run_inference_for_single_image(image, graph):\n",
    "  with graph.as_default():\n",
    "    with tf.Session() as sess:\n",
    "      # Get handles to input and output tensors\n",
    "      ops = tf.get_default_graph().get_operations()\n",
    "      all_tensor_names = {output.name for op in ops for output in op.outputs}\n",
    "      tensor_dict = {}\n",
    "      for key in [\n",
    "          'num_detections', 'detection_boxes', 'detection_scores',\n",
    "          'detection_classes', 'detection_masks'\n",
    "      ]:\n",
    "        tensor_name = key + ':0'\n",
    "        if tensor_name in all_tensor_names:\n",
    "          tensor_dict[key] = tf.get_default_graph().get_tensor_by_name(\n",
    "              tensor_name)\n",
    "      if 'detection_masks' in tensor_dict:\n",
    "        # The following processing is only for single image\n",
    "        detection_boxes = tf.squeeze(tensor_dict['detection_boxes'], [0])\n",
    "        detection_masks = tf.squeeze(tensor_dict['detection_masks'], [0])\n",
    "        # Reframe is required to translate mask from box coordinates to image coordinates and fit the image size.\n",
    "        real_num_detection = tf.cast(tensor_dict['num_detections'][0], tf.int32)\n",
    "        detection_boxes = tf.slice(detection_boxes, [0, 0], [real_num_detection, -1])\n",
    "        detection_masks = tf.slice(detection_masks, [0, 0, 0], [real_num_detection, -1, -1])\n",
    "        detection_masks_reframed = utils_ops.reframe_box_masks_to_image_masks(\n",
    "            detection_masks, detection_boxes, image.shape[0], image.shape[1])\n",
    "        detection_masks_reframed = tf.cast(\n",
    "            tf.greater(detection_masks_reframed, 0.5), tf.uint8)\n",
    "        # Follow the convention by adding back the batch dimension\n",
    "        tensor_dict['detection_masks'] = tf.expand_dims(\n",
    "            detection_masks_reframed, 0)\n",
    "      image_tensor = tf.get_default_graph().get_tensor_by_name('image_tensor:0')\n",
    "\n",
    "      # Run inference\n",
    "      output_dict = sess.run(tensor_dict,\n",
    "                             feed_dict={image_tensor: np.expand_dims(image, 0)})\n",
    "\n",
    "      # all outputs are float32 numpy arrays, so convert types as appropriate\n",
    "      output_dict['num_detections'] = int(output_dict['num_detections'][0])\n",
    "      output_dict['detection_classes'] = output_dict[\n",
    "          'detection_classes'][0].astype(np.uint8)\n",
    "      output_dict['detection_boxes'] = output_dict['detection_boxes'][0]\n",
    "      output_dict['detection_scores'] = output_dict['detection_scores'][0]\n",
    "      if 'detection_masks' in output_dict:\n",
    "        output_dict['detection_masks'] = output_dict['detection_masks'][0]\n",
    "  return output_dict"
   ]
  },
  {
   "cell_type": "code",
   "execution_count": 11,
   "metadata": {
    "colab": {
     "autoexec": {
      "startup": false,
      "wait_interval": 0
     }
    },
    "colab_type": "code",
    "id": "3a5wMHN8WKMh"
   },
   "outputs": [
    {
     "name": "stdout",
     "output_type": "stream",
     "text": [
      "[ 0.23678647  0.28582782  0.31054932  0.46136171]\n",
      "1\n",
      "0.604744\n"
     ]
    },
    {
     "data": {
      "image/png": "[encoded data removed]",
      "text/plain": [
       "<matplotlib.figure.Figure at 0x7f78bc2bb588>"
      ]
     },
     "metadata": {},
     "output_type": "display_data"
    }
   ],
   "source": [
    "for image_path in TEST_IMAGE_PATHS:\n",
    "  image = Image.open(image_path)\n",
    "  # the array based representation of the image will be used later in order to prepare the\n",
    "  # result image with boxes and labels on it.\n",
    "  image_np = load_image_into_numpy_array(image)\n",
    "  # Expand dimensions since the model expects images to have shape: [1, None, None, 3]\n",
    "  image_np_expanded = np.expand_dims(image_np, axis=0)\n",
    "  # Actual detection.\n",
    "  output_dict = run_inference_for_single_image(image_np, detection_graph)\n",
    "  # Visualization of the results of a detection.\n",
    "  vis_util.visualize_boxes_and_labels_on_image_array(\n",
    "      image_np,\n",
    "      output_dict['detection_boxes'],\n",
    "      output_dict['detection_classes'],\n",
    "      output_dict['detection_scores'],\n",
    "      category_index,\n",
    "      instance_masks=output_dict.get('detection_masks'),\n",
    "      use_normalized_coordinates=True,\n",
    "      line_thickness=8)\n",
    "  plt.figure(figsize=IMAGE_SIZE)\n",
    "  plt.imshow(image_np)\n",
    " \n",
    "print(output_dict['detection_boxes'][1])\n",
    "print(output_dict['detection_classes'][1])\n",
    "print(output_dict['detection_scores'][1])"
   ]
  },
  {
   "cell_type": "code",
   "execution_count": 10,
   "metadata": {
    "scrolled": false
   },
   "outputs": [
    {
     "name": "stdout",
     "output_type": "stream",
     "text": [
      "prog_call = /home/kira/anaconda3/lib/python3.6/site-packages/ipykernel_launcher.py\n",
      "prog_location = /home/kira/anaconda3/lib/python3.6/site-packages\n"
     ]
    },
    {
     "name": "stderr",
     "output_type": "stream",
     "text": [
      "Exception in Tkinter callback\n",
      "Traceback (most recent call last):\n",
      "  File \"/home/kira/anaconda3/lib/python3.6/tkinter/__init__.py\", line 1699, in __call__\n",
      "    return self.func(*args)\n",
      "  File \"<ipython-input-10-c63e82eca4f6>\", line 105, in <lambda>\n",
      "    self.browse_btn.configure(command=lambda: open_image())\n",
      "  File \"<ipython-input-10-c63e82eca4f6>\", line 134, in open_image\n",
      "    self.image_lbl.pack(self, fill= BOTH, expand=1)\n",
      "NameError: name 'BOTH' is not defined\n"
     ]
    },
    {
     "name": "stdout",
     "output_type": "stream",
     "text": [
      "_cnfmerge: fallback due to: 'ecda_gui' object is not iterable\n"
     ]
    },
    {
     "name": "stderr",
     "output_type": "stream",
     "text": [
      "Exception in Tkinter callback\n",
      "Traceback (most recent call last):\n",
      "  File \"/home/kira/anaconda3/lib/python3.6/tkinter/__init__.py\", line 103, in _cnfmerge\n",
      "    cnf.update(c)\n",
      "TypeError: 'ecda_gui' object is not iterable\n",
      "\n",
      "During handling of the above exception, another exception occurred:\n",
      "\n",
      "Traceback (most recent call last):\n",
      "  File \"/home/kira/anaconda3/lib/python3.6/tkinter/__init__.py\", line 1699, in __call__\n",
      "    return self.func(*args)\n",
      "  File \"<ipython-input-10-c63e82eca4f6>\", line 111, in <lambda>\n",
      "    self.process_btn.configure(command=lambda: process_ckt())\n",
      "  File \"<ipython-input-10-c63e82eca4f6>\", line 169, in process_ckt\n",
      "    self.image_lbl.pack(self, in_= self.schematic_img_frame)\n",
      "  File \"/home/kira/anaconda3/lib/python3.6/tkinter/__init__.py\", line 2137, in pack_configure\n",
      "    + self._options(cnf, kw))\n",
      "  File \"/home/kira/anaconda3/lib/python3.6/tkinter/__init__.py\", line 1312, in _options\n",
      "    cnf = _cnfmerge((cnf, kw))\n",
      "  File \"/home/kira/anaconda3/lib/python3.6/tkinter/__init__.py\", line 106, in _cnfmerge\n",
      "    for k, v in c.items():\n",
      "AttributeError: 'ecda_gui' object has no attribute 'items'\n"
     ]
    }
   ],
   "source": [
    "#! /usr/bin/env python\n",
    "#  -*- coding: utf-8 -*-\n",
    "#\n",
    "# GUI module generated by PAGE version 4.21\n",
    "#  in conjunction with Tcl version 8.6\n",
    "#    Mar 18, 2019 12:46:54 AM EAT  platform: Linux\n",
    "\n",
    "import sys\n",
    "\n",
    "try:\n",
    "    import Tkinter as tk\n",
    "except ImportError:\n",
    "    import tkinter as tk\n",
    "\n",
    "try:\n",
    "    import ttk\n",
    "    py3 = False\n",
    "except ImportError:\n",
    "    import tkinter.ttk as ttk\n",
    "    py3 = True\n",
    "\n",
    "import ecda_support\n",
    "import os.path\n",
    "from tkinter import filedialog\n",
    "from PIL import Image, ImageTk\n",
    "\n",
    "ckt_image = None\n",
    "box_coord = None\n",
    "box_class = None\n",
    "\n",
    "def vp_start_gui():\n",
    "    '''Starting point when module is the main routine.'''\n",
    "    global val, w, root\n",
    "    global prog_location\n",
    "    prog_call = sys.argv[0]\n",
    "    print ('prog_call = {}'.format(prog_call))\n",
    "    prog_location = os.path.split(prog_call)[0]\n",
    "    print ('prog_location = {}'.format(prog_location))\n",
    "    sys.stdout.flush()\n",
    "    root = tk.Tk()\n",
    "    top = ecda_gui (root)\n",
    "    ecda_support.init(root, top)\n",
    "    root.mainloop()\n",
    "\n",
    "w = None\n",
    "def create_ecda_gui(root, *args, **kwargs):\n",
    "    '''Starting point when module is imported by another program.'''\n",
    "    global w, w_win, rt\n",
    "    global prog_location\n",
    "    prog_call = sys.argv[0]\n",
    "    print ('prog_call = {}'.format(prog_call))\n",
    "    prog_location = os.path.split(prog_call)[0]\n",
    "    print ('prog_location = {}'.format(prog_location))\n",
    "    rt = root\n",
    "    w = tk.Toplevel (root)\n",
    "    top = ecda_gui (w)\n",
    "    ecda_support.init(w, top, *args, **kwargs)\n",
    "    return (w, top)\n",
    "\n",
    "def destroy_ecda_gui():\n",
    "    global w\n",
    "    w.destroy()\n",
    "    w = None\n",
    "\n",
    "class ecda_gui:\n",
    "    \n",
    "    def __init__(self, top=None):\n",
    "        '''This class configures and populates the toplevel window.\n",
    "           top is the toplevel containing window.'''\n",
    "        _bgcolor = '#d9d9d9'  # X11 color: 'gray85'\n",
    "        _fgcolor = '#000000'  # X11 color: 'black'\n",
    "        _compcolor = '#d9d9d9' # X11 color: 'gray85'\n",
    "        _ana1color = '#d9d9d9' # X11 color: 'gray85'\n",
    "        _ana2color = '#ececec' # Closest X11 color: 'gray92'\n",
    "        font9 = \"-family {gothic} -size 9\"\n",
    "        self.style = ttk.Style()\n",
    "        if sys.platform == \"win32\":\n",
    "            self.style.theme_use('winnative')\n",
    "        self.style.configure('.',background=_bgcolor)\n",
    "        self.style.configure('.',foreground=_fgcolor)\n",
    "        self.style.configure('.',font=\"TkDefaultFont\")\n",
    "        self.style.map('.',background=\n",
    "            [('selected', _compcolor), ('active',_ana2color)])\n",
    "\n",
    "        top.geometry(\"934x504+284+162\")\n",
    "        top.title(\"Schematic Detector\")\n",
    "        top.configure(background=\"#1f2b54\")\n",
    "\n",
    "        self.schematic_img_frame = tk.LabelFrame(top)\n",
    "        self.schematic_img_frame.place(relx=0.021, rely=0.02, relheight=0.843\n",
    "                , relwidth=0.642)\n",
    "        self.schematic_img_frame.configure(relief='groove')\n",
    "        self.schematic_img_frame.configure(font=font9)\n",
    "        self.schematic_img_frame.configure(text='''Schematic''')\n",
    "        self.schematic_img_frame.configure(width=600)\n",
    "\n",
    "        self.image_lbl = tk.Label(self.schematic_img_frame)\n",
    "        self.image_lbl.place(relx=0.017, rely=0.071, height=375, width=569\n",
    "                , bordermode='ignore')\n",
    "        self.image_lbl.configure(width=569)\n",
    "\n",
    "        self.browse_btn = tk.Button(top)\n",
    "        self.browse_btn.place(relx=0.118, rely=0.913, height=25, width=140)\n",
    "        self.browse_btn.configure(text='''Browse''')\n",
    "        self.browse_btn.configure(command=lambda: open_image())\n",
    "        self.browse_btn.configure(width=140)\n",
    "\n",
    "        self.process_btn = tk.Button(top)\n",
    "        self.process_btn.place(relx=0.332, rely=0.913, height=25, width=110)\n",
    "        self.process_btn.configure(text='''Process''')\n",
    "        self.process_btn.configure(command=lambda: process_ckt())\n",
    "        self.process_btn.configure(width=110)\n",
    "\n",
    "        self.btn_sprtr = ttk.Separator(top)\n",
    "        self.btn_sprtr.place(relx=0.3, rely=0.893, relheight=0.079)\n",
    "        self.btn_sprtr.configure(orient=\"vertical\")\n",
    "\n",
    "        self.frame_sprtr = ttk.Separator(top)\n",
    "        self.frame_sprtr.place(relx=0.707, rely=0.06, relheight=0.754)\n",
    "        self.frame_sprtr.configure(orient=\"vertical\")\n",
    "\n",
    "        self.component_detail = tk.Message(top)\n",
    "        self.component_detail.place(relx=0.728, rely=0.079, relheight=0.688\n",
    "                , relwidth=0.247)\n",
    "        self.component_detail.configure(text='''Message''')\n",
    "        self.component_detail.configure(width=231)\n",
    "        \n",
    "        def open_image():\n",
    "            global ckt_image\n",
    "            ckt_image = filedialog.askopenfilename(initialdir = \"/home/kira/cloned/tensorflow object detection API/models/research/object_detection/test_images\", title = \"Select circuit image\", filetypes= ((\"jpeg\", \"*.jpg\"), (\"All files\", \"*.*\")))\n",
    "            unresized = Image.open(ckt_image)\n",
    "            image_path = ImageTk.PhotoImage(unresized.resize((560,370),Image.ANTIALIAS))\n",
    "            self.image_lbl.configure(image=image_path) \n",
    "            self.image_lbl.pack(self, fill= BOTH, expand=1)\n",
    "            self.schematic_img_frame.pack_propagate(1)\n",
    "            self.schematic_img_frame.pack()\n",
    "            \n",
    "        def process_ckt():\n",
    "            global ckt_image, box_coord, box_class\n",
    "            image = Image.open(ckt_image)\n",
    "            # the array based representation of the image will be used later in order to prepare the\n",
    "            # result image with boxes and labels on it.\n",
    "            image_np = load_image_into_numpy_array(image)\n",
    "            # Expand dimensions since the model expects images to have shape: [1, None, None, 3]\n",
    "            #image_np_expanded = np.expand_dims(image_np, axis=0)\n",
    "            # Actual detection.\n",
    "            output_dict = run_inference_for_single_image(image_np, detection_graph)\n",
    "            # Visualization of the results of a detection.\n",
    "            _, box_class = vis_util.visualize_boxes_and_labels_on_image_array(\n",
    "                image_np,\n",
    "                output_dict['detection_boxes'],\n",
    "                output_dict['detection_classes'],\n",
    "                output_dict['detection_scores'],\n",
    "                category_index,\n",
    "                instance_masks=output_dict.get('detection_masks'),\n",
    "                use_normalized_coordinates=True,\n",
    "                line_thickness=8)\n",
    "            \n",
    "            comp_detail_msg = \"\"\n",
    "            for box_coordinate, component_class in box_class.items():\n",
    "                comp_detail_msg += str(component_class) + \"\\n\" + str(box_coordinate)+\"\\n\\n\"\n",
    "            \n",
    "            self.component_detail.configure(text=comp_detail_msg)\n",
    "            self.component_detail.pack_propagate(1)\n",
    "            \n",
    "            unresized = Image.fromarray(image_np)\n",
    "            image_path = ImageTk.PhotoImage(unresized.resize((560,370),Image.ANTIALIAS))\n",
    "            self.image_lbl.configure(image=image_path) \n",
    "            self.image_lbl.pack(self, in_= self.schematic_img_frame)\n",
    "            self.schematic_img_frame.pack_propagate(1)\n",
    "            self.schematic_img_frame.pack(in_= top)\n",
    "            self.component_detail.pack(in_= top)\n",
    "            \n",
    "            \n",
    "\n",
    "if __name__ == '__main__':\n",
    "    vp_start_gui()"
   ]
  },
  {
   "cell_type": "code",
   "execution_count": 14,
   "metadata": {},
   "outputs": [
    {
     "data": {
      "text/plain": [
       "defaultdict(list,\n",
       "            {(0.23678646981716156,\n",
       "              0.2858278155326843,\n",
       "              0.3105493187904358,\n",
       "              0.46136170625686646): ['resistor: 60%'],\n",
       "             (0.4042844772338867,\n",
       "              0.7420671582221985,\n",
       "              0.6319484710693359,\n",
       "              0.8116713166236877): ['resistor: 63%']})"
      ]
     },
     "execution_count": 14,
     "metadata": {},
     "output_type": "execute_result"
    }
   ],
   "source": [
    "box_class"
   ]
  },
  {
   "cell_type": "code",
   "execution_count": 11,
   "metadata": {
    "collapsed": true
   },
   "outputs": [],
   "source": [
    "#function for creating a dictionary with center coordinate and type of detected objects. (Y,X) COORDINATES ARE USED.\n",
    "def obj_type_center_coord(box_class):\n",
    "    temp_coord = np.array(list(box_class.keys()))\n",
    "    temp_type = np.array( list(box_class.values()))\n",
    "    \n",
    "    obj_coord_center = np.array([(temp_coord[:,0] + (temp_coord[:,2]-temp_coord[:,0])/2),(temp_coord[:,1] + (temp_coord[:,3]-temp_coord[:,1])/2)]).T\n",
    "    obj_type = np.array((list(np.char.split(temp_type.reshape((temp_type.shape[0],)), sep=':'))))[:,0]\n",
    "    \n",
    "    obj_dict = {}\n",
    "    for key, value in zip(obj_coord_center, obj_type):\n",
    "        obj_dict[tuple(key)] = value\n",
    "    \n",
    "    return obj_dict"
   ]
  },
  {
   "cell_type": "code",
   "execution_count": 18,
   "metadata": {
    "collapsed": true
   },
   "outputs": [],
   "source": [
    "import pytesseract\n",
    "from pytesseract import Output\n",
    "\n",
    "#function for creating a dictionary with the detected text and its bounding box center coordinate. (Y,X) COORDINATES ARE USED.\n",
    "def ocr_text_center_coord(tesser_output, image_height_width):\n",
    "    img_height, img_width = image_height_width\n",
    "    num_boxes = len(tesser_output['level'])\n",
    "    temp_coord = []\n",
    "    temp_text = []\n",
    "    ocr_dict={}\n",
    "    \n",
    "    for i in range(num_boxes):\n",
    "        if text_coord['text'][i]!= \"\" :\n",
    "            (x, y, width, height, text) = (text_coord['left'][i], text_coord['top'][i], text_coord['width'][i], text_coord['height'][i],text_coord['text'][i])\n",
    "            temp_coord.append([y, x, y+height, x+width])\n",
    "            temp_text.append(text)\n",
    "    \n",
    "    temp_coord = np.array(temp_coord)\n",
    "    temp_coord_center = np.array([(temp_coord[:,0] + (temp_coord[:,2]-temp_coord[:,0])/2)/img_height, (temp_coord[:,1] + (temp_coord[:,3]-temp_coord[:,1])/2)/img_width]).T\n",
    "    for key, value in zip(temp_coord_center, temp_text):\n",
    "        ocr_dict[tuple(key)] = value\n",
    "        \n",
    "    return ocr_dict"
   ]
  },
  {
   "cell_type": "code",
   "execution_count": 12,
   "metadata": {
    "collapsed": true
   },
   "outputs": [],
   "source": [
    "class electrical_elmnt():\n",
    "    \n",
    "    #make them unaccessable from outside\n",
    "    \n",
    "    default_start_node = 0\n",
    "    default_end_node = 1\n",
    "    \n",
    "    def __init__(self, center_coord=None, elmnt_type=None, elmnt_value=None, elmnt_label=None, node_pair=(default_start_node, default_end_node)):\n",
    "        self.center_coord = center_coord\n",
    "        self.elmnt_type  = elmnt_type\n",
    "        self.elmnt_value = elmnt_value\n",
    "        self.elmnt_label = elmnt_label\n",
    "        self.node_pair = node_pair"
   ]
  },
  {
   "cell_type": "code",
   "execution_count": 13,
   "metadata": {
    "collapsed": true
   },
   "outputs": [],
   "source": [
    "class electrical_ckt():\n",
    "    \n",
    "    #function to generate netlist and export the netlist to python commands which \n",
    "    #will be later used to redraw the circuit diagram using the scheme draw python package\n",
    "    def export_to_schem_draw():\n",
    "        pass\n",
    "    \n",
    "    #function to generate and export netlist of the circuit to a cir file which will be used\n",
    "    #by ngspice for simulation\n",
    "    def export_to_cir():\n",
    "        pass\n",
    "    \n",
    "    #function to redraw and display the circuit diagram usng the scheme draw python package\n",
    "    def draw_ckt():\n",
    "        pass\n",
    "    \n",
    "    #function to start simulation on the circuit using ngspice\n",
    "    def simulate():\n",
    "        pass"
   ]
  }
 ],
 "metadata": {
  "colab": {
   "default_view": {},
   "name": "object_detection_tutorial.ipynb?workspaceId=ronnyvotel:python_inference::citc",
   "provenance": [],
   "version": "0.3.2",
   "views": {}
  },
  "kernelspec": {
   "display_name": "Python 3",
   "language": "python",
   "name": "python3"
  },
  "language_info": {
   "codemirror_mode": {
    "name": "ipython",
    "version": 3
   },
   "file_extension": ".py",
   "mimetype": "text/x-python",
   "name": "python",
   "nbconvert_exporter": "python",
   "pygments_lexer": "ipython3",
   "version": "3.6.3"
  }
 },
 "nbformat": 4,
 "nbformat_minor": 1
}
