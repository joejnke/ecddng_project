{
 "cells": [
  {
   "cell_type": "code",
   "execution_count": 2,
   "metadata": {
    "collapsed": true
   },
   "outputs": [],
   "source": [
    "import numpy as np"
   ]
  },
  {
   "cell_type": "code",
   "execution_count": 5,
   "metadata": {
    "collapsed": true
   },
   "outputs": [],
   "source": [
    "#function for creating a dictionary with center coordinate and type of detected objects\n",
    "def obj_type_center_coord(box_class):\n",
    "    temp_coord = np.array(list(box_class.keys()))\n",
    "    temp_type = np.array( list(box_class.values()))\n",
    "    \n",
    "    obj_coord_center = np.array([(temp_coord[:,0] + (temp_coord[:,2]-temp_coord[:,0])/2),(temp_coord[:,1] + (temp_coord[:,3]-temp_coord[:,1])/2)]).T\n",
    "    obj_type = np.array((list(np.char.split(temp_type.reshape((temp_type.shape[0],)), sep=':'))))[:,0]\n",
    "    \n",
    "    obj_dict = {}\n",
    "    for key, value in zip(obj_coord_center, obj_type):\n",
    "        obj_dict[tuple(key)] = value\n",
    "    \n",
    "    return obj_dict"
   ]
  },
  {
   "cell_type": "code",
   "execution_count": 3,
   "metadata": {
    "collapsed": true
   },
   "outputs": [],
   "source": [
    "example_detection = {(0.4292680323123932,\n",
    "              0.2402094304561615,\n",
    "              0.5362322926521301,\n",
    "              0.34111204743385315): ['capacitor: 98%'],\n",
    "             (0.4839441478252411,\n",
    "              0.6487745642662048,\n",
    "              0.7329176664352417,\n",
    "              0.728538453578949): ['inductor: 87%']}"
   ]
  },
  {
   "cell_type": "code",
   "execution_count": 13,
   "metadata": {
    "collapsed": true
   },
   "outputs": [],
   "source": [
    "example_text_detection={ \n",
    "                         (26, 63, 77, 25): ['Testing'],\n",
    "                         (110, 63, 100, 19): ['Tesseract'],\n",
    "                         (216, 63, 59, 19): ['OCR'] \n",
    "                       }"
   ]
  },
  {
   "cell_type": "code",
   "execution_count": 6,
   "metadata": {},
   "outputs": [],
   "source": [
    "my_dict = obj_type_center_coord(box_class= example_detection)"
   ]
  },
  {
   "cell_type": "code",
   "execution_count": 7,
   "metadata": {},
   "outputs": [
    {
     "data": {
      "text/plain": [
       "{(0.48275016248226166, 0.29066073894500732): 'capacitor',\n",
       " (0.60843090713024139, 0.6886565089225769): 'inductor'}"
      ]
     },
     "execution_count": 7,
     "metadata": {},
     "output_type": "execute_result"
    }
   ],
   "source": [
    "my_dict"
   ]
  },
  {
   "cell_type": "code",
   "execution_count": 17,
   "metadata": {},
   "outputs": [
    {
     "data": {
      "text/plain": [
       "{(0.48275016248226166, 0.29066073894500732): 'capacitor',\n",
       " (0.60843090713024139, 0.6886565089225769): 'inductor'}"
      ]
     },
     "execution_count": 17,
     "metadata": {},
     "output_type": "execute_result"
    }
   ],
   "source": [
    "my_dict"
   ]
  },
  {
   "cell_type": "code",
   "execution_count": null,
   "metadata": {
    "collapsed": true
   },
   "outputs": [],
   "source": []
  }
 ],
 "metadata": {
  "kernelspec": {
   "display_name": "Python 3",
   "language": "python",
   "name": "python3"
  },
  "language_info": {
   "codemirror_mode": {
    "name": "ipython",
    "version": 3
   },
   "file_extension": ".py",
   "mimetype": "text/x-python",
   "name": "python",
   "nbconvert_exporter": "python",
   "pygments_lexer": "ipython3",
   "version": "3.6.3"
  }
 },
 "nbformat": 4,
 "nbformat_minor": 2
}
