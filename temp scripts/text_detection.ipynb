{
 "cells": [
  {
   "cell_type": "code",
   "execution_count": 25,
   "metadata": {
    "scrolled": true
   },
   "outputs": [
    {
     "ename": "TypeError",
     "evalue": "run_and_get_output() takes from 2 to 6 positional arguments but 553 were given",
     "output_type": "error",
     "traceback": [
      "\u001b[0;31m---------------------------------------------------------------------------\u001b[0m",
      "\u001b[0;31mTypeError\u001b[0m                                 Traceback (most recent call last)",
      "\u001b[0;32m<ipython-input-25-c6aed0e0cba9>\u001b[0m in \u001b[0;36m<module>\u001b[0;34m()\u001b[0m\n\u001b[1;32m      4\u001b[0m \u001b[0mimg\u001b[0m \u001b[0;34m=\u001b[0m \u001b[0mcv2\u001b[0m\u001b[0;34m.\u001b[0m\u001b[0mimread\u001b[0m\u001b[0;34m(\u001b[0m\u001b[0;34m'test_images/image3.jpg'\u001b[0m\u001b[0;34m)\u001b[0m\u001b[0;34m\u001b[0m\u001b[0m\n\u001b[1;32m      5\u001b[0m \u001b[0mimg_height\u001b[0m\u001b[0;34m,\u001b[0m \u001b[0mimg_width\u001b[0m\u001b[0;34m,\u001b[0m \u001b[0m_\u001b[0m \u001b[0;34m=\u001b[0m \u001b[0mimg\u001b[0m\u001b[0;34m.\u001b[0m\u001b[0mshape\u001b[0m\u001b[0;34m\u001b[0m\u001b[0m\n\u001b[0;32m----> 6\u001b[0;31m \u001b[0md\u001b[0m \u001b[0;34m=\u001b[0m \u001b[0mpytesseract\u001b[0m\u001b[0;34m.\u001b[0m\u001b[0mpytesseract\u001b[0m\u001b[0;34m.\u001b[0m\u001b[0mget_pandas_output\u001b[0m\u001b[0;34m(\u001b[0m\u001b[0mimg\u001b[0m\u001b[0;34m)\u001b[0m\u001b[0;34m\u001b[0m\u001b[0m\n\u001b[0m\u001b[1;32m      7\u001b[0m \u001b[0mprint\u001b[0m\u001b[0;34m(\u001b[0m\u001b[0md\u001b[0m\u001b[0;34m)\u001b[0m\u001b[0;34m\u001b[0m\u001b[0m\n\u001b[1;32m      8\u001b[0m \u001b[0;31m#####################################\u001b[0m\u001b[0;34m\u001b[0m\u001b[0;34m\u001b[0m\u001b[0m\n",
      "\u001b[0;32m~/anaconda3/lib/python3.6/site-packages/pytesseract/pytesseract.py\u001b[0m in \u001b[0;36mget_pandas_output\u001b[0;34m(args)\u001b[0m\n\u001b[1;32m    352\u001b[0m \u001b[0;34m\u001b[0m\u001b[0m\n\u001b[1;32m    353\u001b[0m     return pd.read_csv(\n\u001b[0;32m--> 354\u001b[0;31m         \u001b[0mBytesIO\u001b[0m\u001b[0;34m(\u001b[0m\u001b[0mrun_and_get_output\u001b[0m\u001b[0;34m(\u001b[0m\u001b[0;34m*\u001b[0m\u001b[0margs\u001b[0m\u001b[0;34m)\u001b[0m\u001b[0;34m)\u001b[0m\u001b[0;34m,\u001b[0m\u001b[0;34m\u001b[0m\u001b[0m\n\u001b[0m\u001b[1;32m    355\u001b[0m         \u001b[0mquoting\u001b[0m\u001b[0;34m=\u001b[0m\u001b[0mQUOTE_NONE\u001b[0m\u001b[0;34m,\u001b[0m\u001b[0;34m\u001b[0m\u001b[0m\n\u001b[1;32m    356\u001b[0m         \u001b[0msep\u001b[0m\u001b[0;34m=\u001b[0m\u001b[0;34m'\\t'\u001b[0m\u001b[0;34m\u001b[0m\u001b[0m\n",
      "\u001b[0;31mTypeError\u001b[0m: run_and_get_output() takes from 2 to 6 positional arguments but 553 were given"
     ]
    }
   ],
   "source": [
    "import pytesseract\n",
    "from pytesseract import Output\n",
    "import cv2\n",
    "img = cv2.imread('test_images/image3.jpg')\n",
    "img_height, img_width, _ = img.shape\n",
    "d = pytesseract.image_to_data(img, lang='eng+grc', output_type=Output.DICT)\n",
    "print(d)\n",
    "#####################################\n",
    "# for i in list(d.values()):\n",
    "#     print(str(i).split('\\n'))\n",
    "#####################################\n",
    "# n_boxes = len(d['level'])\n",
    "\n",
    "# temp_coord = []\n",
    "# temp_text = []\n",
    "\n",
    "# for i in range(n_boxes):\n",
    "#     if d['text'][i]!= \"\" :\n",
    "    \n",
    "#         (x, y, w, h,t) = (d['left'][i], d['top'][i], d['width'][i], d['height'][i],d['text'][i])\n",
    "#         cv2.rectangle(img, (x, y), (x + w, y + h), (0, 255, 0), 2)\n",
    "#         temp_coord.append((x,y,w,h))\n",
    "#         temp_text.append(t)\n",
    "        \n",
    "# ocr_dict = dict(zip(tuple(temp_coord),temp_text))\n",
    "# cv2.imshow('img', img)\n",
    "# cv2.waitKey(0)"
   ]
  },
  {
   "cell_type": "code",
   "execution_count": 28,
   "metadata": {
    "collapsed": true
   },
   "outputs": [],
   "source": [
    "pytesseract.pytesseract.main?"
   ]
  },
  {
   "cell_type": "code",
   "execution_count": 22,
   "metadata": {
    "collapsed": true
   },
   "outputs": [],
   "source": [
    "img_height, img_width, _ = img.shape\n",
    "example = [[26, 63, 77, 25], [110, 63, 100, 19], [216, 63, 59, 19]]\n",
    "text=['Testing', 'Tesseract', 'OCR']"
   ]
  },
  {
   "cell_type": "code",
   "execution_count": 23,
   "metadata": {
    "collapsed": true
   },
   "outputs": [],
   "source": [
    "temp_coord = []\n",
    "temp_text = []\n",
    "\n",
    "for i,t in zip(example, text):\n",
    "    (x,y,width,height)=i\n",
    "    temp_coord.append([x, y, x+width, y+height])\n",
    "    temp_text.append(t)"
   ]
  },
  {
   "cell_type": "code",
   "execution_count": 24,
   "metadata": {
    "collapsed": true
   },
   "outputs": [],
   "source": [
    "ocr_dict={}\n",
    "temp_coord = np.array(temp_coord)\n",
    "temp_coord_center = np.array([(temp_coord[:,0] + (temp_coord[:,2]-temp_coord[:,0])/2)/img_width, (temp_coord[:,1] + (temp_coord[:,3]-temp_coord[:,1])/2)/img_height]).T\n",
    "for key, value in zip(temp_coord_center, temp_text):\n",
    "    ocr_dict[tuple(key)] = value\n"
   ]
  },
  {
   "cell_type": "code",
   "execution_count": 25,
   "metadata": {},
   "outputs": [
    {
     "data": {
      "text/plain": [
       "{(0.090209790209790211, 0.13652802893309224): 'Testing',\n",
       " (0.22377622377622378, 0.13110307414104883): 'Tesseract',\n",
       " (0.34335664335664334, 0.13110307414104883): 'OCR'}"
      ]
     },
     "execution_count": 25,
     "metadata": {},
     "output_type": "execute_result"
    }
   ],
   "source": [
    "ocr_dict"
   ]
  },
  {
   "cell_type": "code",
   "execution_count": 3,
   "metadata": {
    "collapsed": true
   },
   "outputs": [],
   "source": [
    "example_text_detection={ \n",
    "                         (26, 63, 77, 25): 'Testing',\n",
    "                         (110, 63, 100, 19): 'Tesseract',\n",
    "                         (216, 63, 59, 19): 'OCR' \n",
    "                       }"
   ]
  },
  {
   "cell_type": "code",
   "execution_count": null,
   "metadata": {
    "collapsed": true
   },
   "outputs": [],
   "source": []
  },
  {
   "cell_type": "code",
   "execution_count": null,
   "metadata": {
    "collapsed": true
   },
   "outputs": [],
   "source": []
  },
  {
   "cell_type": "code",
   "execution_count": null,
   "metadata": {
    "collapsed": true
   },
   "outputs": [],
   "source": []
  },
  {
   "cell_type": "code",
   "execution_count": 5,
   "metadata": {
    "collapsed": true
   },
   "outputs": [],
   "source": [
    "import numpy as np\n",
    "import pytesseract\n",
    "from pytesseract import Output\n",
    "import cv2"
   ]
  },
  {
   "cell_type": "code",
   "execution_count": 6,
   "metadata": {
    "collapsed": true
   },
   "outputs": [],
   "source": [
    "#function for creating a dictionary with the detected text and its bounding box center coordinate. (Y,X) COORDINATES ARE USED\n",
    "def ocr_text_center_coord(tesser_output, image_height_width):\n",
    "    img_height, img_width = image_height_width\n",
    "    num_boxes = len(tesser_output['level'])\n",
    "    temp_coord = []\n",
    "    temp_text = []\n",
    "    ocr_dict={}\n",
    "    \n",
    "    for i in range(num_boxes):\n",
    "        if text_coord['text'][i]!= \"\" :\n",
    "            (x, y, width, height, text) = (text_coord['left'][i], text_coord['top'][i], text_coord['width'][i], text_coord['height'][i],text_coord['text'][i])\n",
    "            temp_coord.append([y, x, y+height, x+width])\n",
    "            temp_text.append(text)\n",
    "    \n",
    "    temp_coord = np.array(temp_coord)\n",
    "    temp_coord_center = np.array([(temp_coord[:,0] + (temp_coord[:,2]-temp_coord[:,0])/2)/img_height, (temp_coord[:,1] + (temp_coord[:,3]-temp_coord[:,1])/2)/img_width]).T\n",
    "    for key, value in zip(temp_coord_center, temp_text):\n",
    "        ocr_dict[tuple(key)] = value\n",
    "        \n",
    "    return ocr_dict"
   ]
  }
 ],
 "metadata": {
  "kernelspec": {
   "display_name": "Python 3",
   "language": "python",
   "name": "python3"
  },
  "language_info": {
   "codemirror_mode": {
    "name": "ipython",
    "version": 3
   },
   "file_extension": ".py",
   "mimetype": "text/x-python",
   "name": "python",
   "nbconvert_exporter": "python",
   "pygments_lexer": "ipython3",
   "version": "3.6.3"
  }
 },
 "nbformat": 4,
 "nbformat_minor": 2
}
