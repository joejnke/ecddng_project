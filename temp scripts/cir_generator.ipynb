{
 "cells": [
  {
   "cell_type": "code",
   "execution_count": null,
   "metadata": {},
   "outputs": [],
   "source": [
    "testfile= open ('spice_OP_test.cir','w')\n",
    "\n",
    "#Header definition\n",
    "\n",
    "title = 'Sample Circuit'\n",
    "testfile.writelines([title,'\\n'])\n",
    "#component definition\n",
    "num_boxes = len(d['level'])\n",
    "# Format(label,nodes,value)\n",
    "#for i < no_of_elements generate string ci = Format \n",
    "for i in range(num_boxes):\n",
    "    if d['text'][i]!= \"\" :\n",
    "        (text_OP)= (d['text'][i])\n",
    "        c= text_OP\n",
    "        node='0 1'\n",
    "        value= '100'\n",
    "        print (c)\n",
    "        testfile.writelines([c,'\\t',node,'\\t',value,'\\n'])\n",
    "\n",
    "#Footer definition\n",
    "closing1='.op'\n",
    "closing2='.end'\n",
    "\n",
    "footer=[closing1,'\\n',closing2]\n",
    "\n",
    "#Write to file\n",
    "testfile.writelines(footer)\n",
    "\n",
    "testfile.close()           \n",
    "    "
   ]
  }
 ],
 "metadata": {
  "kernelspec": {
   "display_name": "Python 3",
   "language": "python",
   "name": "python3"
  },
  "language_info": {
   "codemirror_mode": {
    "name": "ipython",
    "version": 3
   },
   "file_extension": ".py",
   "mimetype": "text/x-python",
   "name": "python",
   "nbconvert_exporter": "python",
   "pygments_lexer": "ipython3",
   "version": "3.6.2"
  }
 },
 "nbformat": 4,
 "nbformat_minor": 2
}
